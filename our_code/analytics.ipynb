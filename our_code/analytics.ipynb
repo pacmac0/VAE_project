{
 "cells": [
  {
   "cell_type": "code",
   "execution_count": 1,
   "metadata": {},
   "outputs": [],
   "source": [
    "import os\n",
    "import json\n",
    "import pandas as pd\n",
    "import numpy as np\n",
    "import matplotlib.pyplot as plt\n",
    "import seaborn as sns\n",
    "\n",
    "sns.set()\n",
    "\n",
    "%matplotlib inline"
   ]
  },
  {
   "cell_type": "markdown",
   "metadata": {},
   "source": [
    "## 1. Vampprior on Freyfaces"
   ]
  },
  {
   "cell_type": "markdown",
   "metadata": {},
   "source": [
    "Download the loss data from GCP"
   ]
  },
  {
   "cell_type": "code",
   "execution_count": 2,
   "metadata": {},
   "outputs": [
    {
     "name": "stdout",
     "output_type": "stream",
     "text": [
      "receiving file list ... done\n",
      "\n",
      "sent 16 bytes  received 46 bytes  13.78 bytes/sec\n",
      "total size is 1611986  speedup is 25999.77\n"
     ]
    }
   ],
   "source": [
    "!rsync -avz --no-owner --no-group cuongdd@dd2434-vm:~/VAE_project/our_code/experiments/freyfaces/vamp/log experiments/freyfaces/vamp/log.json"
   ]
  },
  {
   "cell_type": "code",
   "execution_count": 3,
   "metadata": {},
   "outputs": [
    {
     "data": {
      "text/plain": [
       "dict_keys(['py/object', 'config', 'testloss', 'testre', 'testkl', 'trainloss', 'trainre', 'trainkl'])"
      ]
     },
     "execution_count": 3,
     "metadata": {},
     "output_type": "execute_result"
    }
   ],
   "source": [
    "with open('./experiments/freyfaces/vamp/log.json', 'r') as f:\n",
    "    data = json.load(f)\n",
    "\n",
    "data.keys()"
   ]
  },
  {
   "cell_type": "markdown",
   "metadata": {},
   "source": [
    "**Collect test losses into a data frame**"
   ]
  },
  {
   "cell_type": "code",
   "execution_count": 4,
   "metadata": {},
   "outputs": [
    {
     "name": "stdout",
     "output_type": "stream",
     "text": [
      "<class 'pandas.core.frame.DataFrame'>\n",
      "RangeIndex: 1000 entries, 0 to 999\n",
      "Data columns (total 6 columns):\n",
      " #   Column      Non-Null Count  Dtype  \n",
      "---  ------      --------------  -----  \n",
      " 0   train_loss  1000 non-null   float64\n",
      " 1   train_re    1000 non-null   float64\n",
      " 2   train_kl    1000 non-null   float64\n",
      " 3   test_loss   1000 non-null   float64\n",
      " 4   test_re     1000 non-null   float64\n",
      " 5   test_kl     1000 non-null   float64\n",
      "dtypes: float64(6)\n",
      "memory usage: 47.0 KB\n"
     ]
    }
   ],
   "source": [
    "losses = {\n",
    "    'train_loss': data['trainloss'],\n",
    "    'train_re': data['trainre'],\n",
    "    'train_kl': data['trainkl'],\n",
    "    'test_loss': data['testloss'],\n",
    "    'test_re': data['testre'],\n",
    "    'test_kl': data['testkl'],\n",
    "}\n",
    "\n",
    "df = pd.DataFrame(losses)\n",
    "df.info()"
   ]
  },
  {
   "cell_type": "code",
   "execution_count": 5,
   "metadata": {},
   "outputs": [
    {
     "data": {
      "text/html": [
       "<div>\n",
       "<style scoped>\n",
       "    .dataframe tbody tr th:only-of-type {\n",
       "        vertical-align: middle;\n",
       "    }\n",
       "\n",
       "    .dataframe tbody tr th {\n",
       "        vertical-align: top;\n",
       "    }\n",
       "\n",
       "    .dataframe thead th {\n",
       "        text-align: right;\n",
       "    }\n",
       "</style>\n",
       "<table border=\"1\" class=\"dataframe\">\n",
       "  <thead>\n",
       "    <tr style=\"text-align: right;\">\n",
       "      <th></th>\n",
       "      <th>train_loss</th>\n",
       "      <th>train_re</th>\n",
       "      <th>train_kl</th>\n",
       "      <th>test_loss</th>\n",
       "      <th>test_re</th>\n",
       "      <th>test_kl</th>\n",
       "    </tr>\n",
       "  </thead>\n",
       "  <tbody>\n",
       "    <tr>\n",
       "      <th>0</th>\n",
       "      <td>655.977209</td>\n",
       "      <td>-655.976279</td>\n",
       "      <td>0.093848</td>\n",
       "      <td>3404.432617</td>\n",
       "      <td>-3403.672485</td>\n",
       "      <td>0.759955</td>\n",
       "    </tr>\n",
       "    <tr>\n",
       "      <th>1</th>\n",
       "      <td>567.264414</td>\n",
       "      <td>-567.259414</td>\n",
       "      <td>0.250159</td>\n",
       "      <td>3010.307739</td>\n",
       "      <td>-3008.681763</td>\n",
       "      <td>1.626071</td>\n",
       "    </tr>\n",
       "    <tr>\n",
       "      <th>2</th>\n",
       "      <td>527.704536</td>\n",
       "      <td>-527.695254</td>\n",
       "      <td>0.309525</td>\n",
       "      <td>2914.129639</td>\n",
       "      <td>-2912.708496</td>\n",
       "      <td>1.421038</td>\n",
       "    </tr>\n",
       "    <tr>\n",
       "      <th>3</th>\n",
       "      <td>522.417004</td>\n",
       "      <td>-522.405676</td>\n",
       "      <td>0.283610</td>\n",
       "      <td>2789.816162</td>\n",
       "      <td>-2788.078125</td>\n",
       "      <td>1.738322</td>\n",
       "    </tr>\n",
       "    <tr>\n",
       "      <th>4</th>\n",
       "      <td>501.050388</td>\n",
       "      <td>-501.032625</td>\n",
       "      <td>0.355166</td>\n",
       "      <td>2715.969482</td>\n",
       "      <td>-2714.120483</td>\n",
       "      <td>1.848678</td>\n",
       "    </tr>\n",
       "  </tbody>\n",
       "</table>\n",
       "</div>"
      ],
      "text/plain": [
       "   train_loss    train_re  train_kl    test_loss      test_re   test_kl\n",
       "0  655.977209 -655.976279  0.093848  3404.432617 -3403.672485  0.759955\n",
       "1  567.264414 -567.259414  0.250159  3010.307739 -3008.681763  1.626071\n",
       "2  527.704536 -527.695254  0.309525  2914.129639 -2912.708496  1.421038\n",
       "3  522.417004 -522.405676  0.283610  2789.816162 -2788.078125  1.738322\n",
       "4  501.050388 -501.032625  0.355166  2715.969482 -2714.120483  1.848678"
      ]
     },
     "execution_count": 5,
     "metadata": {},
     "output_type": "execute_result"
    }
   ],
   "source": [
    "df.head(5)"
   ]
  },
  {
   "cell_type": "code",
   "execution_count": 6,
   "metadata": {},
   "outputs": [
    {
     "data": {
      "image/png": "[encoded data removed]",
      "text/plain": [
       "<Figure size 432x360 with 1 Axes>"
      ]
     },
     "metadata": {
      "needs_background": "light"
     },
     "output_type": "display_data"
    }
   ],
   "source": [
    "fig = plt.figure(figsize=(6, 5))\n",
    "ax = fig.subplots()\n",
    "sns.lineplot(data=df[['train_loss', 'test_loss']], ax=ax)\n",
    "ax.set_title('Vampprior on Freyfaces', fontsize=16)\n",
    "fig.savefig('./plots/vamp_freyfaces.pdf')"
   ]
  },
  {
   "cell_type": "markdown",
   "metadata": {},
   "source": [
    "### Visualize generated images\n",
    "\n",
    "We're interested in how the generated images look like after some points during training (100th, 200th, 400th, 600th, 1000th epochs)"
   ]
  },
  {
   "cell_type": "markdown",
   "metadata": {},
   "source": [
    "Download generated images from GCP"
   ]
  },
  {
   "cell_type": "code",
   "execution_count": 7,
   "metadata": {},
   "outputs": [
    {
     "name": "stdout",
     "output_type": "stream",
     "text": [
      "receiving file list ... done\n",
      "\n",
      "sent 16 bytes  received 55 bytes  15.78 bytes/sec\n",
      "total size is 99189  speedup is 1397.03\n",
      "receiving file list ... done\n",
      "\n",
      "sent 16 bytes  received 55 bytes  20.29 bytes/sec\n",
      "total size is 99357  speedup is 1399.39\n",
      "receiving file list ... done\n",
      "\n",
      "sent 16 bytes  received 55 bytes  20.29 bytes/sec\n",
      "total size is 101356  speedup is 1427.55\n",
      "receiving file list ... done\n",
      "\n",
      "sent 16 bytes  received 55 bytes  15.78 bytes/sec\n",
      "total size is 101528  speedup is 1429.97\n",
      "receiving file list ... done\n",
      "\n",
      "sent 16 bytes  received 56 bytes  20.57 bytes/sec\n",
      "total size is 101685  speedup is 1412.29\n"
     ]
    }
   ],
   "source": [
    "!rsync -avz --no-owner --no-group cuongdd@dd2434-vm:~/VAE_project/our_code/experiments/freyfaces/vamp/images/epoch100.png experiments/freyfaces/images/\n",
    "!rsync -avz --no-owner --no-group cuongdd@dd2434-vm:~/VAE_project/our_code/experiments/freyfaces/vamp/images/epoch200.png experiments/freyfaces/images/\n",
    "!rsync -avz --no-owner --no-group cuongdd@dd2434-vm:~/VAE_project/our_code/experiments/freyfaces/vamp/images/epoch400.png experiments/freyfaces/images/\n",
    "!rsync -avz --no-owner --no-group cuongdd@dd2434-vm:~/VAE_project/our_code/experiments/freyfaces/vamp/images/epoch600.png experiments/freyfaces/images/\n",
    "!rsync -avz --no-owner --no-group cuongdd@dd2434-vm:~/VAE_project/our_code/experiments/freyfaces/vamp/images/epoch1000.png experiments/freyfaces/images/"
   ]
  },
  {
   "cell_type": "markdown",
   "metadata": {},
   "source": [
    "![freyfaces_100](./experiments/freyfaces/images/epoch100.png)\n",
    "Epoch 100\n",
    "\n",
    "![freyfaces_400](./experiments/freyfaces/images/epoch400.png)\n",
    "Epoch 400\n",
    "\n",
    "![freyfaces_400](./experiments/freyfaces/images/epoch1000.png)\n",
    "Epoch 1000"
   ]
  },
  {
   "cell_type": "markdown",
   "metadata": {},
   "source": [
    "## 2. Vampprior on MNIST"
   ]
  },
  {
   "cell_type": "markdown",
   "metadata": {},
   "source": [
    "Download the loss data from GCP"
   ]
  },
  {
   "cell_type": "code",
   "execution_count": 8,
   "metadata": {},
   "outputs": [
    {
     "name": "stdout",
     "output_type": "stream",
     "text": [
      "receiving file list ... done\n",
      "\n",
      "sent 16 bytes  received 46 bytes  17.71 bytes/sec\n",
      "total size is 2209556  speedup is 35638.00\n"
     ]
    }
   ],
   "source": [
    "!rsync -avz --no-owner --no-group cuongdd@dd2434-vm:~/VAE_project/our_code/experiments/mnist/vamp/log experiments/mnist/vamp/log.json"
   ]
  },
  {
   "cell_type": "code",
   "execution_count": 9,
   "metadata": {},
   "outputs": [
    {
     "data": {
      "text/plain": [
       "dict_keys(['py/object', 'config', 'testloss', 'testre', 'testkl', 'trainloss', 'trainre', 'trainkl'])"
      ]
     },
     "execution_count": 9,
     "metadata": {},
     "output_type": "execute_result"
    }
   ],
   "source": [
    "with open('./experiments/mnist/vamp/log.json', 'r') as f:\n",
    "    data = json.load(f)\n",
    "\n",
    "data.keys()"
   ]
  },
  {
   "cell_type": "code",
   "execution_count": 10,
   "metadata": {},
   "outputs": [
    {
     "name": "stdout",
     "output_type": "stream",
     "text": [
      "<class 'pandas.core.frame.DataFrame'>\n",
      "RangeIndex: 1000 entries, 0 to 999\n",
      "Data columns (total 6 columns):\n",
      " #   Column      Non-Null Count  Dtype  \n",
      "---  ------      --------------  -----  \n",
      " 0   train_loss  1000 non-null   float64\n",
      " 1   train_re    1000 non-null   float64\n",
      " 2   train_kl    1000 non-null   float64\n",
      " 3   test_loss   1000 non-null   float64\n",
      " 4   test_re     1000 non-null   float64\n",
      " 5   test_kl     1000 non-null   float64\n",
      "dtypes: float64(6)\n",
      "memory usage: 47.0 KB\n"
     ]
    }
   ],
   "source": [
    "losses = {\n",
    "    'train_loss': data['trainloss'],\n",
    "    'train_re': data['trainre'],\n",
    "    'train_kl': data['trainkl'],\n",
    "    'test_loss': data['testloss'],\n",
    "    'test_re': data['testre'],\n",
    "    'test_kl': data['testkl'],\n",
    "}\n",
    "\n",
    "df = pd.DataFrame(losses)\n",
    "df.info()"
   ]
  },
  {
   "cell_type": "markdown",
   "metadata": {},
   "source": [
    "**Plot the training and testing losses**"
   ]
  },
  {
   "cell_type": "code",
   "execution_count": 11,
   "metadata": {},
   "outputs": [
    {
     "data": {
      "image/png": "[encoded data removed]",
      "text/plain": [
       "<Figure size 648x432 with 1 Axes>"
      ]
     },
     "metadata": {
      "needs_background": "light"
     },
     "output_type": "display_data"
    }
   ],
   "source": [
    "fig = plt.figure(figsize=(9, 6))\n",
    "ax = fig.subplots()\n",
    "sns.lineplot(data=df[['train_loss', 'test_loss']], ax=ax)\n",
    "ax.set_title('Vampprior on MNIST', fontsize=16)\n",
    "fig.savefig('./plots/vamp_mnist.pdf')"
   ]
  },
  {
   "cell_type": "code",
   "execution_count": 12,
   "metadata": {},
   "outputs": [
    {
     "data": {
      "text/plain": [
       "Text(0.5, 1.0, 'Vampprior on MNIST')"
      ]
     },
     "execution_count": 12,
     "metadata": {},
     "output_type": "execute_result"
    },
    {
     "data": {
      "image/png": "[encoded data removed]",
      "text/plain": [
       "<Figure size 648x432 with 1 Axes>"
      ]
     },
     "metadata": {
      "needs_background": "light"
     },
     "output_type": "display_data"
    }
   ],
   "source": [
    "fig = plt.figure(figsize=(9, 6))\n",
    "ax = fig.subplots()\n",
    "sns.lineplot(data=df[['train_re', 'train_kl', 'test_re', 'test_kl']], ax=ax)\n",
    "ax.set_title('Vampprior on MNIST', fontsize=16)\n",
    "# fig.savefig('./plots/vamp_mnist.pdf')"
   ]
  },
  {
   "cell_type": "markdown",
   "metadata": {},
   "source": [
    "### Visualize generated images\n",
    "\n",
    "We're interested in how the generated images look like after some points during training (100th, 200th, 400th, 600th, 1000th epochs)"
   ]
  },
  {
   "cell_type": "code",
   "execution_count": 13,
   "metadata": {},
   "outputs": [],
   "source": [
    "!rsync -az --no-owner --no-group cuongdd@dd2434-vm:~/VAE_project/our_code/experiments/mnist/vamp/images/epoch100.png experiments/mnist/images/\n",
    "!rsync -az --no-owner --no-group cuongdd@dd2434-vm:~/VAE_project/our_code/experiments/mnist/vamp/images/epoch200.png experiments/mnist/images/\n",
    "!rsync -az --no-owner --no-group cuongdd@dd2434-vm:~/VAE_project/our_code/experiments/mnist/vamp/images/epoch400.png experiments/mnist/images/\n",
    "!rsync -az --no-owner --no-group cuongdd@dd2434-vm:~/VAE_project/our_code/experiments/mnist/vamp/images/epoch600.png experiments/mnist/images/\n",
    "!rsync -az --no-owner --no-group cuongdd@dd2434-vm:~/VAE_project/our_code/experiments/mnist/vamp/images/epoch1000.png experiments/mnist/images/"
   ]
  },
  {
   "cell_type": "markdown",
   "metadata": {},
   "source": [
    "![mnist_100](./experiments/mnist/images/epoch100.png)\n",
    "Epoch 100\n",
    "\n",
    "![mnist_400](./experiments/mnist/images/epoch400.png)\n",
    "Epoch 400\n",
    "\n",
    "![mnist_400](./experiments/mnist/images/epoch1000.png)\n",
    "Epoch 1000"
   ]
  }
 ],
 "metadata": {
  "kernelspec": {
   "display_name": "Python 3",
   "language": "python",
   "name": "python3"
  },
  "language_info": {
   "codemirror_mode": {
    "name": "ipython",
    "version": 3
   },
   "file_extension": ".py",
   "mimetype": "text/x-python",
   "name": "python",
   "nbconvert_exporter": "python",
   "pygments_lexer": "ipython3",
   "version": "3.8.5"
  }
 },
 "nbformat": 4,
 "nbformat_minor": 4
}
